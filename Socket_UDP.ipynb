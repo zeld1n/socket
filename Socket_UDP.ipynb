{
  "nbformat": 4,
  "nbformat_minor": 0,
  "metadata": {
    "colab": {
      "provenance": [],
      "include_colab_link": true
    },
    "kernelspec": {
      "name": "python3",
      "display_name": "Python 3"
    },
    "language_info": {
      "name": "python"
    }
  },
  "cells": [
    {
      "cell_type": "markdown",
      "metadata": {
        "id": "view-in-github",
        "colab_type": "text"
      },
      "source": [
        "<a href=\"https://colab.research.google.com/github/zeld1n/socket/blob/main/Socket_UDP.ipynb\" target=\"_parent\"><img src=\"https://colab.research.google.com/assets/colab-badge.svg\" alt=\"Open In Colab\"/></a>"
      ]
    },
    {
      "cell_type": "markdown",
      "source": [
        "# **Introduzione alle socket in python**\n",
        "\n",
        "Le socket sono uno strumento importante per la comunicazione tra processi su una rete, sia su Internet che su una rete locale. In Python, le socket possono essere utilizzate sia per la comunicazione tramite il protocollo UDP (User Datagram Protocol), che è un protocollo di trasmissione di dati senza connessione, che TCP (Trasmission Control Protocol) con connessione. Per creare una socket in Python, utilizziamo il metodo socket() del modulo socket. Il metodo accetta due parametri: la famiglia di indirizzi (ad esempio, socket.AF_INET per IPv4) e il tipo di socket (ad esempio, socket.SOCK_STREAM per TCP o socket.SOCK_DGRAM per UDP)."
      ],
      "metadata": {
        "id": "2Y_pbbMseAA0"
      }
    },
    {
      "cell_type": "markdown",
      "source": [
        "## **Socket UDP**\n",
        "\n",
        "Le socket UDP sono utilizzate per inviare e ricevere pacchetti di dati tra due dispositivi senza l'instaurazione di una connessione prima della trasmissione dei dati. Questo rende le socket UDP molto utili per la trasmissione di dati in tempo reale come audio e video. Inoltre, il fatto che non ci sia una connessione pre-stabilita significa che le socket UDP sono adatte per la trasmissione di dati a più destinazioni contemporaneamente.\n",
        "\n",
        "In Python, il modulo socket fornisce un'interfaccia per creare e gestire le socket UDP. Le primitive principali che possono essere utilizzate con le socket UDP includono:\n",
        "\n",
        "1. **socket()**: questa funzione viene utilizzata per creare una nuova socket UDP. Restituisce un oggetto socket che può essere utilizzato per inviare e ricevere dati."
      ],
      "metadata": {
        "id": "WASCJZdAn1ss"
      }
    },
    {
      "cell_type": "code",
      "source": [
        "import socket\n",
        "#Creazione della socket UDP\n",
        "sock = socket.socket(socket.AF_INET, socket.SOCK_DGRAM)"
      ],
      "metadata": {
        "id": "FtfnEhR8oJEz"
      },
      "execution_count": null,
      "outputs": []
    },
    {
      "cell_type": "markdown",
      "source": [
        "2. **bind()**: questa funzione viene utilizzata per associare una socket a un indirizzo e una porta specifici del server. Una volta associata, la socket sarà in grado di ricevere i dati inviati a quell'indirizzo e porta specifici. Il metodo accetta un parametro, una tupla contenente l'indirizzo IP e il numero di porta."
      ],
      "metadata": {
        "id": "Ivzb3plkoNgS"
      }
    },
    {
      "cell_type": "code",
      "source": [
        "#Associazione della socket all'indirizzo e alla porta del server\n",
        "server_address = ('127.0.0.1', 10000)\n",
        "sock.bind(server_address)"
      ],
      "metadata": {
        "id": "-LdYB8WioXZc"
      },
      "execution_count": null,
      "outputs": []
    },
    {
      "cell_type": "markdown",
      "source": [
        "3. **sendto()**: questa funzione viene utilizzata per inviare un messaggio a un indirizzo e una porta specifici. In una socket UDP, il messaggio inviato viene suddiviso in pacchetti e inviato tramite la rete. Non viene effettuato alcun controllo sulla ricezione del messaggio."
      ],
      "metadata": {
        "id": "QvWY_bCvocGz"
      }
    },
    {
      "cell_type": "code",
      "source": [
        "#Invio di un messaggio alla socket del client\n",
        "message = b'Hello, client!'\n",
        "client_address = ('localhost', 10001)\n",
        "sock.sendto(message, client_address)"
      ],
      "metadata": {
        "colab": {
          "base_uri": "https://localhost:8080/"
        },
        "id": "EcJ8gtYion8r",
        "outputId": "60543dfb-238e-49c4-bbcd-6595a7f6be70"
      },
      "execution_count": null,
      "outputs": [
        {
          "output_type": "execute_result",
          "data": {
            "text/plain": [
              "14"
            ]
          },
          "metadata": {},
          "execution_count": 4
        }
      ]
    },
    {
      "cell_type": "markdown",
      "source": [
        "4. **recvfrom()**: questa funzione viene utilizzata per ricevere un messaggio inviato a una socket specifica. Essa restituisce il messaggio ricevuto e l'indirizzo e la porta del mittente del messaggio."
      ],
      "metadata": {
        "id": "yKzLGedtoeHC"
      }
    },
    {
      "cell_type": "code",
      "source": [
        "#Ricezione di un messaggio dalla socket del client\n",
        "data, address = sock.recvfrom(4096)"
      ],
      "metadata": {
        "colab": {
          "base_uri": "https://localhost:8080/",
          "height": 159
        },
        "collapsed": true,
        "id": "H_N2Qv4lo66L",
        "outputId": "d7c11d70-df62-4a4d-f6ac-4727abf91392"
      },
      "execution_count": null,
      "outputs": [
        {
          "output_type": "error",
          "ename": "KeyboardInterrupt",
          "evalue": "",
          "traceback": [
            "\u001b[0;31m---------------------------------------------------------------------------\u001b[0m",
            "\u001b[0;31mKeyboardInterrupt\u001b[0m                         Traceback (most recent call last)",
            "\u001b[0;32m<ipython-input-5-b3bdd8ef9c9b>\u001b[0m in \u001b[0;36m<cell line: 0>\u001b[0;34m()\u001b[0m\n\u001b[1;32m      1\u001b[0m \u001b[0;31m#Ricezione di un messaggio dalla socket del client\u001b[0m\u001b[0;34m\u001b[0m\u001b[0;34m\u001b[0m\u001b[0m\n\u001b[0;32m----> 2\u001b[0;31m \u001b[0mdata\u001b[0m\u001b[0;34m,\u001b[0m \u001b[0maddress\u001b[0m \u001b[0;34m=\u001b[0m \u001b[0msock\u001b[0m\u001b[0;34m.\u001b[0m\u001b[0mrecvfrom\u001b[0m\u001b[0;34m(\u001b[0m\u001b[0;36m4096\u001b[0m\u001b[0;34m)\u001b[0m\u001b[0;34m\u001b[0m\u001b[0;34m\u001b[0m\u001b[0m\n\u001b[0m",
            "\u001b[0;31mKeyboardInterrupt\u001b[0m: "
          ]
        }
      ]
    },
    {
      "cell_type": "markdown",
      "source": [
        "Esempio completo di un server e un client che comunicano tramite socket UDP in Python potrebbe essere il seguente:\n",
        "\n",
        "nb: il codice va eseguito il locale"
      ],
      "metadata": {
        "id": "YlCU3VbFo7q7"
      }
    },
    {
      "cell_type": "code",
      "source": [
        "import socket\n",
        "SERVER_IP = \"127.0.0.1\"\n",
        "SERVER_PORT = 5005\n",
        "BUFFER_SIZE = 1024\n",
        "\n",
        "#Creazione del socket\n",
        "sock = socket.socket(socket.AF_INET, socket.SOCK_DGRAM)\n",
        "sock.bind((SERVER_IP, SERVER_PORT))\n",
        "print(\"Server in attesa di messaggi...\")\n",
        "\n",
        "while True:\n",
        "  #Ricezione dei dati dal client\n",
        "  data, addr = sock.recvfrom (BUFFER_SIZE)\n",
        "  print(f\"Messaggio ricevuto dal client {addr}: (data.decode())\")\n",
        "\n",
        "  # Invio di una risposta al client\n",
        "  reply = \"pong\"\n",
        "  sock.sendto(reply.encode(), addr)"
      ],
      "metadata": {
        "colab": {
          "base_uri": "https://localhost:8080/",
          "height": 228
        },
        "collapsed": true,
        "id": "vZak4hgipKRr",
        "outputId": "d454f0c2-bf68-44dc-e2c4-944382a3bcde"
      },
      "execution_count": null,
      "outputs": [
        {
          "output_type": "stream",
          "name": "stdout",
          "text": [
            "Server in attesa di messaggi...\n"
          ]
        },
        {
          "output_type": "error",
          "ename": "KeyboardInterrupt",
          "evalue": "",
          "traceback": [
            "\u001b[0;31m---------------------------------------------------------------------------\u001b[0m",
            "\u001b[0;31mKeyboardInterrupt\u001b[0m                         Traceback (most recent call last)",
            "\u001b[0;32m<ipython-input-12-160b4af45fd8>\u001b[0m in \u001b[0;36m<cell line: 0>\u001b[0;34m()\u001b[0m\n\u001b[1;32m     11\u001b[0m \u001b[0;32mwhile\u001b[0m \u001b[0;32mTrue\u001b[0m\u001b[0;34m:\u001b[0m\u001b[0;34m\u001b[0m\u001b[0;34m\u001b[0m\u001b[0m\n\u001b[1;32m     12\u001b[0m   \u001b[0;31m#Ricezione dei dati dal client\u001b[0m\u001b[0;34m\u001b[0m\u001b[0;34m\u001b[0m\u001b[0m\n\u001b[0;32m---> 13\u001b[0;31m   \u001b[0mdata\u001b[0m\u001b[0;34m,\u001b[0m \u001b[0maddr\u001b[0m \u001b[0;34m=\u001b[0m \u001b[0msock\u001b[0m\u001b[0;34m.\u001b[0m\u001b[0mrecvfrom\u001b[0m \u001b[0;34m(\u001b[0m\u001b[0mBUFFER_SIZE\u001b[0m\u001b[0;34m)\u001b[0m\u001b[0;34m\u001b[0m\u001b[0;34m\u001b[0m\u001b[0m\n\u001b[0m\u001b[1;32m     14\u001b[0m   \u001b[0mprint\u001b[0m\u001b[0;34m(\u001b[0m\u001b[0;34mf\"Messaggio ricevuto dal client {addr}: (data.decode())\"\u001b[0m\u001b[0;34m)\u001b[0m\u001b[0;34m\u001b[0m\u001b[0;34m\u001b[0m\u001b[0m\n\u001b[1;32m     15\u001b[0m \u001b[0;34m\u001b[0m\u001b[0m\n",
            "\u001b[0;31mKeyboardInterrupt\u001b[0m: "
          ]
        }
      ]
    },
    {
      "cell_type": "code",
      "source": [
        "import socket\n",
        "SERVER_IP = \"127.0.0.1\"\n",
        "SERVER_PORT = 5005\n",
        "BUFFER_SIZE = 1024\n",
        "NUM_MESSAGES = 5\n",
        "\n",
        "#Creazione del socket\n",
        "sock = socket.socket(socket.AF_INET, socket.SOCK_DGRAM)\n",
        "\n",
        "for i in range(NUM_MESSAGES):\n",
        "  # Invio del messaggio al server\n",
        "  message = \"ping\"\n",
        "  sock.sendto(message.encode(), (SERVER_IP, SERVER_PORT))\n",
        "  print(f\"Messaggio inviato al server: {message}\")\n",
        "  #Ricezione della risposta dal server\n",
        "  data, addr = sock.recvfrom (BUFFER_SIZE)\n",
        "  print(f\"Messaggio ricevuto dal server {addr}: (data.decode())\")\n",
        "\n",
        "#Chiusura del socket\n",
        "sock.close()"
      ],
      "metadata": {
        "id": "66Qw5btQpuDj"
      },
      "execution_count": null,
      "outputs": []
    }
  ]
}